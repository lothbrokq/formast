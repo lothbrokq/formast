{
 "cells": [
  {
   "cell_type": "code",
   "execution_count": 1,
   "id": "363be74b",
   "metadata": {},
   "outputs": [
    {
     "data": {
      "text/plain": [
       "<tree_sitter.Tree at 0x2212e48a4d0>"
      ]
     },
     "execution_count": 1,
     "metadata": {},
     "output_type": "execute_result"
    }
   ],
   "source": [
    "from collections import deque\n",
    "from tree_sitter import Language, Parser\n",
    "import os\n",
    "from formast.__main__ import JAVA_LANGUAGE\n",
    "\n",
    "parser = Parser()\n",
    "parser.set_language(JAVA_LANGUAGE)\n",
    "\n",
    "with open(\"..\\java_files\\simple.java\", \"rb\") as f:\n",
    "    code = f.read()\n",
    "tree = parser.parse(code)\n",
    "tree"
   ]
  },
  {
   "cell_type": "code",
   "execution_count": 2,
   "id": "4997940c",
   "metadata": {},
   "outputs": [
    {
     "name": "stdout",
     "output_type": "stream",
     "text": [
      "program [0, 0] - [0, 17]\n",
      "  class_declaration [0, 0] - [0, 17]\n",
      "    modifiers [0, 0] - [0, 6]\n",
      "      public [0, 0] - [0, 6]\n",
      "    class [0, 7] - [0, 12]\n",
      "    identifier [0, 13] - [0, 14]\n",
      "    class_body [0, 15] - [0, 17]\n",
      "      { [0, 15] - [0, 16]\n",
      "      } [0, 16] - [0, 17]\n"
     ]
    }
   ],
   "source": [
    "from tree_sitter import Node\n",
    "\n",
    "def print_node(node: Node, indent: str = \"\"):\n",
    "    print(f\"{indent}{node.type} [{node.start_point[0]}, {node.start_point[1]}] - [{node.end_point[0]}, {node.end_point[1]}]\")\n",
    "    for child in node.children:\n",
    "        print_node(child, indent + \"  \")\n",
    "\n",
    "print_node(tree.root_node)"
   ]
  },
  {
   "cell_type": "code",
   "execution_count": 5,
   "id": "8d2d3a2b",
   "metadata": {},
   "outputs": [
    {
     "name": "stdout",
     "output_type": "stream",
     "text": [
      "public\n",
      "class\n",
      "A\n",
      "{\n",
      "}\n"
     ]
    }
   ],
   "source": [
    "## Tokenizer\n",
    "def traverse(tree):\n",
    "    cursor = tree.walk()\n",
    "    descend = [True]\n",
    "\n",
    "    while True:\n",
    "        if descend[-1]:\n",
    "            yield cursor.node\n",
    "        if descend[-1] and cursor.goto_first_child():\n",
    "            descend[-1] = False\n",
    "            descend.append(True)\n",
    "        elif cursor.goto_next_sibling():\n",
    "            descend[-1] = True\n",
    "        elif cursor.goto_parent():\n",
    "            descend.pop()\n",
    "        else:\n",
    "            break\n",
    "            \n",
    "for node in traverse(tree):\n",
    "    if node.child_count == 0:\n",
    "        print(node.text.decode('utf-8'))"
   ]
  },
  {
   "cell_type": "code",
   "execution_count": 6,
   "id": "c354d941",
   "metadata": {},
   "outputs": [
    {
     "name": "stdout",
     "output_type": "stream",
     "text": [
      "L public\n",
      "B modifiers 0\n",
      "L class\n",
      "L A\n",
      "L {\n",
      "L }\n",
      "B class_body 4 5\n",
      "B class_declaration 1 2 3 6\n",
      "B program 7\n"
     ]
    }
   ],
   "source": [
    "def process_tree_ast(tree):\n",
    "    if tree is None:\n",
    "        raise ValueError(\"The tree object must not be None\")\n",
    "\n",
    "    lines = []\n",
    "\n",
    "    def process_node(node):\n",
    "        if node is None:\n",
    "            raise ValueError(\"The tree object does not have the expected structure\")\n",
    "\n",
    "        line = \"\"\n",
    "\n",
    "        if node.children:\n",
    "            children = []\n",
    "            for child in node.children:\n",
    "                child_result = process_node(child)\n",
    "                if child_result is not None:\n",
    "                    children.append(child_result)\n",
    "            line = 'B {} {}'.format(node.type, ' '.join(map(str, children)))\n",
    "        else:\n",
    "            try:\n",
    "                text = node.text.decode('utf-8')\n",
    "            except UnicodeDecodeError:\n",
    "                raise ValueError(\"The text of the leaf nodes must be encoded using utf-8\")\n",
    "            line = 'L {}'.format(text)\n",
    "\n",
    "        lines.append('{}'.format(line))\n",
    "\n",
    "        return len(lines) - 1\n",
    "\n",
    "    process_node(tree.root_node)\n",
    "    return '\\n'.join(lines)\n",
    "\n",
    "print(process_tree_ast(tree))"
   ]
  },
  {
   "cell_type": "code",
   "execution_count": 7,
   "id": "c28c55c3",
   "metadata": {},
   "outputs": [
    {
     "name": "stdout",
     "output_type": "stream",
     "text": [
      "L public\n",
      "B modifiers -1\n",
      "L class\n",
      "L A\n",
      "L {\n",
      "L }\n",
      "B class_body -2 -1\n",
      "B class_declaration -6 -5 -4 -1\n",
      "B program -1\n"
     ]
    }
   ],
   "source": [
    "def process_tree_ast_relatively(tree):\n",
    "    if tree is None:\n",
    "        raise ValueError(\"The tree object must not be None\")\n",
    "\n",
    "    lines = []\n",
    "\n",
    "    def process_node(node):\n",
    "        if node is None:\n",
    "            raise ValueError(\"The tree object does not have the expected structure\")\n",
    "\n",
    "        line = \"\"\n",
    "\n",
    "        if node.children:\n",
    "            children = []\n",
    "            for child in node.children:\n",
    "                child_result = process_node(child)\n",
    "                if child_result is not None:\n",
    "                    children.append(child_result)\n",
    "            line = 'B {} {}'.format(node.type, ' '.join(map(lambda x: str(x - len(lines)), children)))\n",
    "        else:\n",
    "            try:\n",
    "                text = node.text.decode('utf-8')\n",
    "            except UnicodeDecodeError:\n",
    "                raise ValueError(\"The text of the leaf nodes must be encoded using utf-8\")\n",
    "            line = 'L {}'.format(text)\n",
    "\n",
    "        lines.append('{}'.format(line))\n",
    "\n",
    "        return len(lines) - 1\n",
    "\n",
    "    process_node(tree.root_node)\n",
    "    return '\\n'.join(lines)\n",
    "\n",
    "print(process_tree_ast_relatively(tree))"
   ]
  },
  {
   "cell_type": "code",
   "execution_count": 7,
   "id": "45bf0be8",
   "metadata": {},
   "outputs": [
    {
     "name": "stdout",
     "output_type": "stream",
     "text": [
      "L public\n",
      "B modifiers -1\n",
      "L class\n",
      "L A\n",
      "L {\n",
      "L }\n",
      "B class_body -2 -1\n",
      "B class_declaration -6 -5 -4 -1\n",
      "B program -1\n"
     ]
    }
   ],
   "source": [
    "def process_tree_ast_rel(tree):\n",
    "    if tree is None:\n",
    "        raise ValueError(\"The tree object must not be None\")\n",
    "\n",
    "    lines = []\n",
    "\n",
    "    def process_node(node):\n",
    "        if node is None:\n",
    "            raise ValueError(\"The tree object does not have the expected structure\")\n",
    "\n",
    "        line = \"\"\n",
    "\n",
    "        if node.children:\n",
    "            children = []\n",
    "            for child in node.children:\n",
    "                child_result = process_node(child)\n",
    "                if child_result is not None:\n",
    "                    children.append(child_result)\n",
    "            line = 'B {} {}'.format(node.type, ' '.join(map(lambda x: str(x - len(lines)), children)))\n",
    "        else:\n",
    "            try:\n",
    "                text = node.text.decode('utf-8')\n",
    "            except UnicodeDecodeError:\n",
    "                raise ValueError(\"The text of the leaf nodes must be encoded using utf-8\")\n",
    "            line = 'L {}'.format(text)\n",
    "\n",
    "        lines.append('{}'.format(line))\n",
    "\n",
    "        return len(lines) - 1\n",
    "\n",
    "    process_node(tree.root_node)\n",
    "    return '\\n'.join(lines)\n",
    "\n",
    "print(process_tree_ast_rel(tree))"
   ]
  },
  {
   "cell_type": "code",
   "execution_count": 9,
   "id": "d002dc08",
   "metadata": {},
   "outputs": [
    {
     "name": "stdout",
     "output_type": "stream",
     "text": [
      "2usUse1FW98 L class\n",
      "FwqmimPqmxY B class_declaration iLRoi73V-RI 2usUse1FW98 Jf7gA03GbKE _ETJtzenYkI\n",
      "Jf7gA03GbKE L A\n",
      "M8gnXQfEJJs B program FwqmimPqmxY\n",
      "QRb-VDvN7n0 L }\n",
      "_6xEEtLT7vg L public\n",
      "_ETJtzenYkI B class_body f1dtMFaAKXw QRb-VDvN7n0\n",
      "f1dtMFaAKXw L {\n",
      "iLRoi73V-RI B modifiers _6xEEtLT7vg\n"
     ]
    }
   ],
   "source": [
    "import base64\n",
    "import hashlib\n",
    "\n",
    "def process_tree_comp_sorted(tree):\n",
    "    if tree is None:\n",
    "        raise ValueError(\"The tree object must not be None\")\n",
    "\n",
    "    lookup = {}\n",
    "    lines = []\n",
    "\n",
    "    def process_node_sorted(node):\n",
    "        if node is None:\n",
    "            raise ValueError(\"The tree object does not have the expected structure\")\n",
    "\n",
    "        line = \"\"\n",
    "\n",
    "        if node.children:\n",
    "            children = []\n",
    "            for child in node.children:\n",
    "                child_result = process_node_sorted(child)\n",
    "                if child_result is not None:\n",
    "                    children.append(child_result)\n",
    "            line = 'B {} {}'.format(node.type, ' '.join(map(str, children)))\n",
    "        else:\n",
    "            try:\n",
    "                text = node.text.decode('utf-8')\n",
    "            except UnicodeDecodeError:\n",
    "                raise ValueError(\"The text of the leaf nodes must be encoded using utf-8\")\n",
    "            line = 'L {}'.format(text)\n",
    "\n",
    "        idx = lookup.get(line)\n",
    "        if idx is not None:\n",
    "            return idx\n",
    "\n",
    "        hash_object = hashlib.sha256(line.encode('utf-8'))\n",
    "        hash_value = int.from_bytes(hash_object.digest()[:8], byteorder='big', signed=True)\n",
    "        idx = base64.urlsafe_b64encode(hash_value.to_bytes(8, byteorder='big', signed=True)).rstrip(b'=').decode('ascii')\n",
    "        lines.append('{} {}'.format(idx, line))\n",
    "        lookup[line] = idx\n",
    "\n",
    "        return idx\n",
    "\n",
    "    process_node_sorted(tree.root_node)\n",
    "    sorted_lines = sorted(lines, key=lambda x: x.split()[0])\n",
    "    return '\\n'.join(sorted_lines) \n",
    "\n",
    "print(process_tree_comp_sorted(tree))"
   ]
  }
 ],
 "metadata": {
  "kernelspec": {
   "display_name": "Python 3 (ipykernel)",
   "language": "python",
   "name": "python3"
  },
  "language_info": {
   "codemirror_mode": {
    "name": "ipython",
    "version": 3
   },
   "file_extension": ".py",
   "mimetype": "text/x-python",
   "name": "python",
   "nbconvert_exporter": "python",
   "pygments_lexer": "ipython3",
   "version": "3.10.7"
  }
 },
 "nbformat": 4,
 "nbformat_minor": 5
}
