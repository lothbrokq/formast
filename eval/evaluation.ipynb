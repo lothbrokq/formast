{
 "cells": [
  {
   "cell_type": "code",
   "execution_count": 61,
   "id": "8b5f44ad",
   "metadata": {},
   "outputs": [],
   "source": [
    "import pandas as pd\n",
    "import numpy as np"
   ]
  },
  {
   "cell_type": "code",
   "execution_count": 62,
   "id": "986ed693",
   "metadata": {},
   "outputs": [],
   "source": [
    "mapping = pd.read_csv(\"../csv_files/bookstore_csv/mapping.csv\")\n",
    "d_type = {\"commit_hash\" : \"str\", \t\"num_additions\" : int,\t\"num_deletions\": int, \"filename\" : \"str\"}\n",
    "\n",
    "def load_data(file):\n",
    "    df = pd.read_csv(file)\n",
    "    df = df[df.filename.str.endswith(\".java\")]\n",
    "    return pd.DataFrame({\"commit_hash\": df.commit_hash, \"changes\": pd.to_numeric(df.num_additions) + pd.to_numeric(df.num_deletions), \"filename\": df.filename})\n",
    "\n",
    "data_java = load_data(\"../csv_files/bookstore_csv/output_java.csv\")\n",
    "data_ast = load_data(\"../csv_files/bookstore_csv/output_ast.csv\")\n",
    "data_java_nws = load_data(\"../csv_files/bookstore_csv/output_nws.csv\")"
   ]
  },
  {
   "cell_type": "code",
   "execution_count": 63,
   "id": "9c2bd730",
   "metadata": {},
   "outputs": [
    {
     "data": {
      "text/html": [
       "<div>\n",
       "<style scoped>\n",
       "    .dataframe tbody tr th:only-of-type {\n",
       "        vertical-align: middle;\n",
       "    }\n",
       "\n",
       "    .dataframe tbody tr th {\n",
       "        vertical-align: top;\n",
       "    }\n",
       "\n",
       "    .dataframe thead th {\n",
       "        text-align: right;\n",
       "    }\n",
       "</style>\n",
       "<table border=\"1\" class=\"dataframe\">\n",
       "  <thead>\n",
       "    <tr style=\"text-align: right;\">\n",
       "      <th></th>\n",
       "      <th>from</th>\n",
       "      <th>to</th>\n",
       "    </tr>\n",
       "  </thead>\n",
       "  <tbody>\n",
       "    <tr>\n",
       "      <th>0</th>\n",
       "      <td>8a3399aec8341c0766a49826a023bb6b24562ec1</td>\n",
       "      <td>be9474a1320a2585581151aa211cf662595f593e</td>\n",
       "    </tr>\n",
       "    <tr>\n",
       "      <th>1</th>\n",
       "      <td>a1e77a023e1449d6f1d6bb4fc321e537c1c91432</td>\n",
       "      <td>566fe922671b6a1941400d381e63ce20c04d953a</td>\n",
       "    </tr>\n",
       "    <tr>\n",
       "      <th>2</th>\n",
       "      <td>7ee02cf2e1405fb376a7f0d9f10c53628ba18373</td>\n",
       "      <td>1c0a15bde391be864031fabdfb0389a2d5e5d8df</td>\n",
       "    </tr>\n",
       "    <tr>\n",
       "      <th>3</th>\n",
       "      <td>9f0a5c0e2efd594dfc93a7440f8965860b0fcfe0</td>\n",
       "      <td>ae9b5426c6c3da90531945dd539dee95f7a35cff</td>\n",
       "    </tr>\n",
       "    <tr>\n",
       "      <th>4</th>\n",
       "      <td>38443e531a68d35f9c3be2fcdbe749b3da232963</td>\n",
       "      <td>130f2baf932c7ea9c2885581b92b420091c7ce63</td>\n",
       "    </tr>\n",
       "    <tr>\n",
       "      <th>...</th>\n",
       "      <td>...</td>\n",
       "      <td>...</td>\n",
       "    </tr>\n",
       "    <tr>\n",
       "      <th>190</th>\n",
       "      <td>59e4f86a4d265dd166aaabb5fd3277b07668881f</td>\n",
       "      <td>29db0fdb898d8e9a67ba6d9d606f2e8e7bcf26b0</td>\n",
       "    </tr>\n",
       "    <tr>\n",
       "      <th>191</th>\n",
       "      <td>04bfbd44fc64324dceab22b069c90bb723ea9c49</td>\n",
       "      <td>e9d12bae3cc9fd9c856575e3f15a180b4ab37dc7</td>\n",
       "    </tr>\n",
       "    <tr>\n",
       "      <th>192</th>\n",
       "      <td>7f69dcee1135798e8b06e2fbf8539f7f04adb6d6</td>\n",
       "      <td>673aaee97c59baaccc653a37e6989bd01297e78c</td>\n",
       "    </tr>\n",
       "    <tr>\n",
       "      <th>193</th>\n",
       "      <td>011fad3dc5cd82ee511b196130f5ea7b54cc6ea0</td>\n",
       "      <td>c8876b959f65f3eedcc4b35700398d8aaece0452</td>\n",
       "    </tr>\n",
       "    <tr>\n",
       "      <th>194</th>\n",
       "      <td>d604f45e28e56be479a20c2e0a52fbe3a757e2c5</td>\n",
       "      <td>7fa53863f8275b8bdba21a792d1167d2a8b28b7a</td>\n",
       "    </tr>\n",
       "  </tbody>\n",
       "</table>\n",
       "<p>195 rows × 2 columns</p>\n",
       "</div>"
      ],
      "text/plain": [
       "                                         from  \\\n",
       "0    8a3399aec8341c0766a49826a023bb6b24562ec1   \n",
       "1    a1e77a023e1449d6f1d6bb4fc321e537c1c91432   \n",
       "2    7ee02cf2e1405fb376a7f0d9f10c53628ba18373   \n",
       "3    9f0a5c0e2efd594dfc93a7440f8965860b0fcfe0   \n",
       "4    38443e531a68d35f9c3be2fcdbe749b3da232963   \n",
       "..                                        ...   \n",
       "190  59e4f86a4d265dd166aaabb5fd3277b07668881f   \n",
       "191  04bfbd44fc64324dceab22b069c90bb723ea9c49   \n",
       "192  7f69dcee1135798e8b06e2fbf8539f7f04adb6d6   \n",
       "193  011fad3dc5cd82ee511b196130f5ea7b54cc6ea0   \n",
       "194  d604f45e28e56be479a20c2e0a52fbe3a757e2c5   \n",
       "\n",
       "                                           to  \n",
       "0    be9474a1320a2585581151aa211cf662595f593e  \n",
       "1    566fe922671b6a1941400d381e63ce20c04d953a  \n",
       "2    1c0a15bde391be864031fabdfb0389a2d5e5d8df  \n",
       "3    ae9b5426c6c3da90531945dd539dee95f7a35cff  \n",
       "4    130f2baf932c7ea9c2885581b92b420091c7ce63  \n",
       "..                                        ...  \n",
       "190  29db0fdb898d8e9a67ba6d9d606f2e8e7bcf26b0  \n",
       "191  e9d12bae3cc9fd9c856575e3f15a180b4ab37dc7  \n",
       "192  673aaee97c59baaccc653a37e6989bd01297e78c  \n",
       "193  c8876b959f65f3eedcc4b35700398d8aaece0452  \n",
       "194  7fa53863f8275b8bdba21a792d1167d2a8b28b7a  \n",
       "\n",
       "[195 rows x 2 columns]"
      ]
     },
     "execution_count": 63,
     "metadata": {},
     "output_type": "execute_result"
    }
   ],
   "source": [
    "mapping"
   ]
  },
  {
   "cell_type": "code",
   "execution_count": 64,
   "id": "df9f07bf",
   "metadata": {},
   "outputs": [
    {
     "data": {
      "text/html": [
       "<div>\n",
       "<style scoped>\n",
       "    .dataframe tbody tr th:only-of-type {\n",
       "        vertical-align: middle;\n",
       "    }\n",
       "\n",
       "    .dataframe tbody tr th {\n",
       "        vertical-align: top;\n",
       "    }\n",
       "\n",
       "    .dataframe thead th {\n",
       "        text-align: right;\n",
       "    }\n",
       "</style>\n",
       "<table border=\"1\" class=\"dataframe\">\n",
       "  <thead>\n",
       "    <tr style=\"text-align: right;\">\n",
       "      <th></th>\n",
       "      <th>commit_hash</th>\n",
       "      <th>changes</th>\n",
       "      <th>filename</th>\n",
       "    </tr>\n",
       "  </thead>\n",
       "  <tbody>\n",
       "    <tr>\n",
       "      <th>0</th>\n",
       "      <td>c8876b959f65f3eedcc4b35700398d8aaece0452</td>\n",
       "      <td>21</td>\n",
       "      <td>src/main/java/com/bittercode/util/StoreUtil.java</td>\n",
       "    </tr>\n",
       "    <tr>\n",
       "      <th>1</th>\n",
       "      <td>c8876b959f65f3eedcc4b35700398d8aaece0452</td>\n",
       "      <td>18</td>\n",
       "      <td>src/main/java/servlets/CartServlet.java</td>\n",
       "    </tr>\n",
       "    <tr>\n",
       "      <th>2</th>\n",
       "      <td>c8876b959f65f3eedcc4b35700398d8aaece0452</td>\n",
       "      <td>114</td>\n",
       "      <td>src/main/java/servlets/ViewBookServlet.java</td>\n",
       "    </tr>\n",
       "    <tr>\n",
       "      <th>8</th>\n",
       "      <td>29db0fdb898d8e9a67ba6d9d606f2e8e7bcf26b0</td>\n",
       "      <td>435</td>\n",
       "      <td>src/main/java/com/bittercode/util/StoreUtil.java</td>\n",
       "    </tr>\n",
       "    <tr>\n",
       "      <th>9</th>\n",
       "      <td>29db0fdb898d8e9a67ba6d9d606f2e8e7bcf26b0</td>\n",
       "      <td>200</td>\n",
       "      <td>src/main/java/servlets/AboutServlet.java</td>\n",
       "    </tr>\n",
       "    <tr>\n",
       "      <th>...</th>\n",
       "      <td>...</td>\n",
       "      <td>...</td>\n",
       "      <td>...</td>\n",
       "    </tr>\n",
       "    <tr>\n",
       "      <th>532</th>\n",
       "      <td>566fe922671b6a1941400d381e63ce20c04d953a</td>\n",
       "      <td>450</td>\n",
       "      <td>OnlineBookStore/src/test/ReceiptServlet.java</td>\n",
       "    </tr>\n",
       "    <tr>\n",
       "      <th>533</th>\n",
       "      <td>566fe922671b6a1941400d381e63ce20c04d953a</td>\n",
       "      <td>208</td>\n",
       "      <td>OnlineBookStore/src/test/RemoveBookServlet.java</td>\n",
       "    </tr>\n",
       "    <tr>\n",
       "      <th>534</th>\n",
       "      <td>566fe922671b6a1941400d381e63ce20c04d953a</td>\n",
       "      <td>240</td>\n",
       "      <td>OnlineBookStore/src/test/UserLoginServlet.java</td>\n",
       "    </tr>\n",
       "    <tr>\n",
       "      <th>535</th>\n",
       "      <td>566fe922671b6a1941400d381e63ce20c04d953a</td>\n",
       "      <td>313</td>\n",
       "      <td>OnlineBookStore/src/test/UserRegisterServlet.java</td>\n",
       "    </tr>\n",
       "    <tr>\n",
       "      <th>536</th>\n",
       "      <td>566fe922671b6a1941400d381e63ce20c04d953a</td>\n",
       "      <td>302</td>\n",
       "      <td>OnlineBookStore/src/test/ViewBookServlet.java</td>\n",
       "    </tr>\n",
       "  </tbody>\n",
       "</table>\n",
       "<p>117 rows × 3 columns</p>\n",
       "</div>"
      ],
      "text/plain": [
       "                                  commit_hash  changes  \\\n",
       "0    c8876b959f65f3eedcc4b35700398d8aaece0452       21   \n",
       "1    c8876b959f65f3eedcc4b35700398d8aaece0452       18   \n",
       "2    c8876b959f65f3eedcc4b35700398d8aaece0452      114   \n",
       "8    29db0fdb898d8e9a67ba6d9d606f2e8e7bcf26b0      435   \n",
       "9    29db0fdb898d8e9a67ba6d9d606f2e8e7bcf26b0      200   \n",
       "..                                        ...      ...   \n",
       "532  566fe922671b6a1941400d381e63ce20c04d953a      450   \n",
       "533  566fe922671b6a1941400d381e63ce20c04d953a      208   \n",
       "534  566fe922671b6a1941400d381e63ce20c04d953a      240   \n",
       "535  566fe922671b6a1941400d381e63ce20c04d953a      313   \n",
       "536  566fe922671b6a1941400d381e63ce20c04d953a      302   \n",
       "\n",
       "                                              filename  \n",
       "0     src/main/java/com/bittercode/util/StoreUtil.java  \n",
       "1              src/main/java/servlets/CartServlet.java  \n",
       "2          src/main/java/servlets/ViewBookServlet.java  \n",
       "8     src/main/java/com/bittercode/util/StoreUtil.java  \n",
       "9             src/main/java/servlets/AboutServlet.java  \n",
       "..                                                 ...  \n",
       "532       OnlineBookStore/src/test/ReceiptServlet.java  \n",
       "533    OnlineBookStore/src/test/RemoveBookServlet.java  \n",
       "534     OnlineBookStore/src/test/UserLoginServlet.java  \n",
       "535  OnlineBookStore/src/test/UserRegisterServlet.java  \n",
       "536      OnlineBookStore/src/test/ViewBookServlet.java  \n",
       "\n",
       "[117 rows x 3 columns]"
      ]
     },
     "execution_count": 64,
     "metadata": {},
     "output_type": "execute_result"
    }
   ],
   "source": [
    "data_ast"
   ]
  },
  {
   "cell_type": "code",
   "execution_count": 65,
   "id": "ee2a9ed9",
   "metadata": {},
   "outputs": [
    {
     "data": {
      "text/html": [
       "<div>\n",
       "<style scoped>\n",
       "    .dataframe tbody tr th:only-of-type {\n",
       "        vertical-align: middle;\n",
       "    }\n",
       "\n",
       "    .dataframe tbody tr th {\n",
       "        vertical-align: top;\n",
       "    }\n",
       "\n",
       "    .dataframe thead th {\n",
       "        text-align: right;\n",
       "    }\n",
       "</style>\n",
       "<table border=\"1\" class=\"dataframe\">\n",
       "  <thead>\n",
       "    <tr style=\"text-align: right;\">\n",
       "      <th></th>\n",
       "      <th>commit_hash</th>\n",
       "      <th>changes</th>\n",
       "      <th>filename</th>\n",
       "    </tr>\n",
       "  </thead>\n",
       "  <tbody>\n",
       "    <tr>\n",
       "      <th>0</th>\n",
       "      <td>011fad3dc5cd82ee511b196130f5ea7b54cc6ea0</td>\n",
       "      <td>25</td>\n",
       "      <td>src/main/java/com/bittercode/util/StoreUtil.java</td>\n",
       "    </tr>\n",
       "    <tr>\n",
       "      <th>1</th>\n",
       "      <td>011fad3dc5cd82ee511b196130f5ea7b54cc6ea0</td>\n",
       "      <td>20</td>\n",
       "      <td>src/main/java/servlets/CartServlet.java</td>\n",
       "    </tr>\n",
       "    <tr>\n",
       "      <th>2</th>\n",
       "      <td>011fad3dc5cd82ee511b196130f5ea7b54cc6ea0</td>\n",
       "      <td>65</td>\n",
       "      <td>src/main/java/servlets/ViewBookServlet.java</td>\n",
       "    </tr>\n",
       "    <tr>\n",
       "      <th>8</th>\n",
       "      <td>59e4f86a4d265dd166aaabb5fd3277b07668881f</td>\n",
       "      <td>105</td>\n",
       "      <td>src/main/java/com/bittercode/util/StoreUtil.java</td>\n",
       "    </tr>\n",
       "    <tr>\n",
       "      <th>9</th>\n",
       "      <td>59e4f86a4d265dd166aaabb5fd3277b07668881f</td>\n",
       "      <td>35</td>\n",
       "      <td>src/main/java/servlets/AboutServlet.java</td>\n",
       "    </tr>\n",
       "    <tr>\n",
       "      <th>...</th>\n",
       "      <td>...</td>\n",
       "      <td>...</td>\n",
       "      <td>...</td>\n",
       "    </tr>\n",
       "    <tr>\n",
       "      <th>540</th>\n",
       "      <td>a1e77a023e1449d6f1d6bb4fc321e537c1c91432</td>\n",
       "      <td>75</td>\n",
       "      <td>OnlineBookStore/src/test/ReceiptServlet.java</td>\n",
       "    </tr>\n",
       "    <tr>\n",
       "      <th>541</th>\n",
       "      <td>a1e77a023e1449d6f1d6bb4fc321e537c1c91432</td>\n",
       "      <td>39</td>\n",
       "      <td>OnlineBookStore/src/test/RemoveBookServlet.java</td>\n",
       "    </tr>\n",
       "    <tr>\n",
       "      <th>542</th>\n",
       "      <td>a1e77a023e1449d6f1d6bb4fc321e537c1c91432</td>\n",
       "      <td>42</td>\n",
       "      <td>OnlineBookStore/src/test/UserLoginServlet.java</td>\n",
       "    </tr>\n",
       "    <tr>\n",
       "      <th>543</th>\n",
       "      <td>a1e77a023e1449d6f1d6bb4fc321e537c1c91432</td>\n",
       "      <td>47</td>\n",
       "      <td>OnlineBookStore/src/test/UserRegisterServlet.java</td>\n",
       "    </tr>\n",
       "    <tr>\n",
       "      <th>544</th>\n",
       "      <td>a1e77a023e1449d6f1d6bb4fc321e537c1c91432</td>\n",
       "      <td>64</td>\n",
       "      <td>OnlineBookStore/src/test/ViewBookServlet.java</td>\n",
       "    </tr>\n",
       "  </tbody>\n",
       "</table>\n",
       "<p>126 rows × 3 columns</p>\n",
       "</div>"
      ],
      "text/plain": [
       "                                  commit_hash  changes  \\\n",
       "0    011fad3dc5cd82ee511b196130f5ea7b54cc6ea0       25   \n",
       "1    011fad3dc5cd82ee511b196130f5ea7b54cc6ea0       20   \n",
       "2    011fad3dc5cd82ee511b196130f5ea7b54cc6ea0       65   \n",
       "8    59e4f86a4d265dd166aaabb5fd3277b07668881f      105   \n",
       "9    59e4f86a4d265dd166aaabb5fd3277b07668881f       35   \n",
       "..                                        ...      ...   \n",
       "540  a1e77a023e1449d6f1d6bb4fc321e537c1c91432       75   \n",
       "541  a1e77a023e1449d6f1d6bb4fc321e537c1c91432       39   \n",
       "542  a1e77a023e1449d6f1d6bb4fc321e537c1c91432       42   \n",
       "543  a1e77a023e1449d6f1d6bb4fc321e537c1c91432       47   \n",
       "544  a1e77a023e1449d6f1d6bb4fc321e537c1c91432       64   \n",
       "\n",
       "                                              filename  \n",
       "0     src/main/java/com/bittercode/util/StoreUtil.java  \n",
       "1              src/main/java/servlets/CartServlet.java  \n",
       "2          src/main/java/servlets/ViewBookServlet.java  \n",
       "8     src/main/java/com/bittercode/util/StoreUtil.java  \n",
       "9             src/main/java/servlets/AboutServlet.java  \n",
       "..                                                 ...  \n",
       "540       OnlineBookStore/src/test/ReceiptServlet.java  \n",
       "541    OnlineBookStore/src/test/RemoveBookServlet.java  \n",
       "542     OnlineBookStore/src/test/UserLoginServlet.java  \n",
       "543  OnlineBookStore/src/test/UserRegisterServlet.java  \n",
       "544      OnlineBookStore/src/test/ViewBookServlet.java  \n",
       "\n",
       "[126 rows x 3 columns]"
      ]
     },
     "execution_count": 65,
     "metadata": {},
     "output_type": "execute_result"
    }
   ],
   "source": [
    "data_java"
   ]
  },
  {
   "cell_type": "code",
   "execution_count": 66,
   "id": "03edfc9c",
   "metadata": {},
   "outputs": [],
   "source": [
    "df_ast = pd.merge(data_ast, mapping, left_on=\"commit_hash\", right_on=\"to\", validate=\"m:1\", how=\"left\").rename(columns = {\"from\": \"commit_hash\", \"commit_hash\": \"commit_hash_ast\"}).drop(columns=[\"to\", \"commit_hash_ast\"]).set_index([\"commit_hash\", \"filename\"])"
   ]
  },
  {
   "cell_type": "code",
   "execution_count": 67,
   "id": "f3f83acb",
   "metadata": {},
   "outputs": [],
   "source": [
    "df_java = data_java.set_index([\"commit_hash\", \"filename\"])\n"
   ]
  },
  {
   "cell_type": "code",
   "execution_count": 68,
   "id": "0752ef91",
   "metadata": {},
   "outputs": [],
   "source": [
    "df_java_nws = data_java_nws.set_index([\"commit_hash\", \"filename\"])"
   ]
  },
  {
   "cell_type": "code",
   "execution_count": 69,
   "id": "0c1454d8",
   "metadata": {},
   "outputs": [
    {
     "data": {
      "text/plain": [
       "repo     0\n",
       "token    0\n",
       "nws      0\n",
       "dtype: int64"
      ]
     },
     "execution_count": 69,
     "metadata": {},
     "output_type": "execute_result"
    }
   ],
   "source": [
    "def mergeall(**dfs):\n",
    "    from functools import reduce\n",
    "    items = dfs.items()\n",
    "    table = df_java.rename(columns = dict(changes=\"repo\"))\n",
    "    for key, df in items:\n",
    "        table = pd.merge(table, df.rename(columns = dict(changes=key)), left_index=True, right_index=True, validate=\"1:1\", how=\"outer\")\n",
    "    return table\n",
    "\n",
    "df_merged = mergeall(token= df_ast, nws= df_java_nws).fillna(0, downcast=\"int64\")\n",
    "df_merged.isna().sum()"
   ]
  },
  {
   "cell_type": "code",
   "execution_count": 70,
   "id": "6a900384",
   "metadata": {},
   "outputs": [
    {
     "data": {
      "text/plain": [
       "<Axes: xlabel='commit_hash,filename'>"
      ]
     },
     "execution_count": 70,
     "metadata": {},
     "output_type": "execute_result"
    },
    {
     "data": {
      "image/png": "[encoded data removed]",
      "text/plain": [
       "<Figure size 640x480 with 1 Axes>"
      ]
     },
     "metadata": {},
     "output_type": "display_data"
    }
   ],
   "source": [
    "df_merged.plot()"
   ]
  },
  {
   "cell_type": "code",
   "execution_count": 71,
   "id": "f3577c04",
   "metadata": {},
   "outputs": [
    {
     "data": {
      "text/plain": [
       "<Axes: >"
      ]
     },
     "execution_count": 71,
     "metadata": {},
     "output_type": "execute_result"
    },
    {
     "data": {
      "image/png": "[encoded data removed]",
      "text/plain": [
       "<Figure size 640x480 with 1 Axes>"
      ]
     },
     "metadata": {},
     "output_type": "display_data"
    }
   ],
   "source": [
    "df = pd.DataFrame({k : np.array(df_merged[k].sort_values()) for k in df_merged.columns})\n",
    "df.plot()"
   ]
  },
  {
   "cell_type": "code",
   "execution_count": 72,
   "id": "f0f69913",
   "metadata": {},
   "outputs": [
    {
     "ename": "NameError",
     "evalue": "name 'df_merged_nws' is not defined",
     "output_type": "error",
     "traceback": [
      "\u001b[1;31m---------------------------------------------------------------------------\u001b[0m",
      "\u001b[1;31mNameError\u001b[0m                                 Traceback (most recent call last)",
      "Cell \u001b[1;32mIn[72], line 1\u001b[0m\n\u001b[1;32m----> 1\u001b[0m df_nws \u001b[39m=\u001b[39m pd\u001b[39m.\u001b[39mDataFrame({\u001b[39m\"\u001b[39m\u001b[39mjava\u001b[39m\u001b[39m\"\u001b[39m: np\u001b[39m.\u001b[39marray(df_merged_nws\u001b[39m.\u001b[39mchanges\u001b[39m.\u001b[39msort_values()), \u001b[39m\"\u001b[39m\u001b[39mast\u001b[39m\u001b[39m\"\u001b[39m: np\u001b[39m.\u001b[39marray(df_merged_nws\u001b[39m.\u001b[39mchanges_ast\u001b[39m.\u001b[39msort_values())})\n\u001b[0;32m      2\u001b[0m df_nws\u001b[39m.\u001b[39mplot()\n",
      "\u001b[1;31mNameError\u001b[0m: name 'df_merged_nws' is not defined"
     ]
    }
   ],
   "source": [
    "df_nws = pd.DataFrame({\"java\": np.array(df_merged_nws.changes.sort_values()), \"ast\": np.array(df_merged_nws.changes_ast.sort_values())})\n",
    "df_nws.plot()"
   ]
  },
  {
   "cell_type": "code",
   "execution_count": null,
   "id": "5d40792e",
   "metadata": {},
   "outputs": [
    {
     "ename": "AttributeError",
     "evalue": "'DataFrame' object has no attribute 'changes'",
     "output_type": "error",
     "traceback": [
      "\u001b[1;31m---------------------------------------------------------------------------\u001b[0m",
      "\u001b[1;31mAttributeError\u001b[0m                            Traceback (most recent call last)",
      "Cell \u001b[1;32mIn[72], line 1\u001b[0m\n\u001b[1;32m----> 1\u001b[0m df \u001b[39m=\u001b[39m pd\u001b[39m.\u001b[39mDataFrame({\u001b[39m\"\u001b[39m\u001b[39mjava\u001b[39m\u001b[39m\"\u001b[39m: np\u001b[39m.\u001b[39marray(df_merged\u001b[39m.\u001b[39;49mchanges\u001b[39m.\u001b[39msort_values()), \u001b[39m\"\u001b[39m\u001b[39mast\u001b[39m\u001b[39m\"\u001b[39m: np\u001b[39m.\u001b[39marray(df_merged\u001b[39m.\u001b[39mchanges_ast\u001b[39m.\u001b[39msort_values())})\n\u001b[0;32m      2\u001b[0m (df \u001b[39m/\u001b[39m df\u001b[39m.\u001b[39msum())\u001b[39m.\u001b[39mplot()\n",
      "File \u001b[1;32mc:\\Users\\boran\\OneDrive\\DTU\\BSc Thesis\\formastfolder\\formast\\.venv\\lib\\site-packages\\pandas\\core\\generic.py:5902\u001b[0m, in \u001b[0;36mNDFrame.__getattr__\u001b[1;34m(self, name)\u001b[0m\n\u001b[0;32m   5895\u001b[0m \u001b[39mif\u001b[39;00m (\n\u001b[0;32m   5896\u001b[0m     name \u001b[39mnot\u001b[39;00m \u001b[39min\u001b[39;00m \u001b[39mself\u001b[39m\u001b[39m.\u001b[39m_internal_names_set\n\u001b[0;32m   5897\u001b[0m     \u001b[39mand\u001b[39;00m name \u001b[39mnot\u001b[39;00m \u001b[39min\u001b[39;00m \u001b[39mself\u001b[39m\u001b[39m.\u001b[39m_metadata\n\u001b[0;32m   5898\u001b[0m     \u001b[39mand\u001b[39;00m name \u001b[39mnot\u001b[39;00m \u001b[39min\u001b[39;00m \u001b[39mself\u001b[39m\u001b[39m.\u001b[39m_accessors\n\u001b[0;32m   5899\u001b[0m     \u001b[39mand\u001b[39;00m \u001b[39mself\u001b[39m\u001b[39m.\u001b[39m_info_axis\u001b[39m.\u001b[39m_can_hold_identifiers_and_holds_name(name)\n\u001b[0;32m   5900\u001b[0m ):\n\u001b[0;32m   5901\u001b[0m     \u001b[39mreturn\u001b[39;00m \u001b[39mself\u001b[39m[name]\n\u001b[1;32m-> 5902\u001b[0m \u001b[39mreturn\u001b[39;00m \u001b[39mobject\u001b[39;49m\u001b[39m.\u001b[39;49m\u001b[39m__getattribute__\u001b[39;49m(\u001b[39mself\u001b[39;49m, name)\n",
      "\u001b[1;31mAttributeError\u001b[0m: 'DataFrame' object has no attribute 'changes'"
     ]
    }
   ],
   "source": [
    "df = pd.DataFrame({\"java\": np.array(df_merged.changes.sort_values()), \"ast\": np.array(df_merged.changes_ast.sort_values())})\n",
    "(df / df.sum()).plot()"
   ]
  },
  {
   "cell_type": "code",
   "execution_count": null,
   "id": "11b34603",
   "metadata": {},
   "outputs": [
    {
     "ename": "AttributeError",
     "evalue": "'DataFrame' object has no attribute 'changes'",
     "output_type": "error",
     "traceback": [
      "\u001b[1;31m---------------------------------------------------------------------------\u001b[0m",
      "\u001b[1;31mAttributeError\u001b[0m                            Traceback (most recent call last)",
      "Cell \u001b[1;32mIn[15], line 1\u001b[0m\n\u001b[1;32m----> 1\u001b[0m df \u001b[39m=\u001b[39m pd\u001b[39m.\u001b[39mDataFrame({\u001b[39m\"\u001b[39m\u001b[39mjava\u001b[39m\u001b[39m\"\u001b[39m: np\u001b[39m.\u001b[39marray(df_merged\u001b[39m.\u001b[39;49mchanges\u001b[39m.\u001b[39msort_values()), \u001b[39m\"\u001b[39m\u001b[39mast\u001b[39m\u001b[39m\"\u001b[39m: np\u001b[39m.\u001b[39marray(df_merged\u001b[39m.\u001b[39mchanges_ast\u001b[39m.\u001b[39msort_values())})\n\u001b[0;32m      2\u001b[0m (df\u001b[39m.\u001b[39mcumsum() \u001b[39m/\u001b[39m df\u001b[39m.\u001b[39msum())\u001b[39m.\u001b[39mplot()\n\u001b[0;32m      3\u001b[0m df\n",
      "File \u001b[1;32mc:\\Users\\boran\\OneDrive\\DTU\\BSc Thesis\\formastfolder\\formast\\.venv\\lib\\site-packages\\pandas\\core\\generic.py:5902\u001b[0m, in \u001b[0;36mNDFrame.__getattr__\u001b[1;34m(self, name)\u001b[0m\n\u001b[0;32m   5895\u001b[0m \u001b[39mif\u001b[39;00m (\n\u001b[0;32m   5896\u001b[0m     name \u001b[39mnot\u001b[39;00m \u001b[39min\u001b[39;00m \u001b[39mself\u001b[39m\u001b[39m.\u001b[39m_internal_names_set\n\u001b[0;32m   5897\u001b[0m     \u001b[39mand\u001b[39;00m name \u001b[39mnot\u001b[39;00m \u001b[39min\u001b[39;00m \u001b[39mself\u001b[39m\u001b[39m.\u001b[39m_metadata\n\u001b[0;32m   5898\u001b[0m     \u001b[39mand\u001b[39;00m name \u001b[39mnot\u001b[39;00m \u001b[39min\u001b[39;00m \u001b[39mself\u001b[39m\u001b[39m.\u001b[39m_accessors\n\u001b[0;32m   5899\u001b[0m     \u001b[39mand\u001b[39;00m \u001b[39mself\u001b[39m\u001b[39m.\u001b[39m_info_axis\u001b[39m.\u001b[39m_can_hold_identifiers_and_holds_name(name)\n\u001b[0;32m   5900\u001b[0m ):\n\u001b[0;32m   5901\u001b[0m     \u001b[39mreturn\u001b[39;00m \u001b[39mself\u001b[39m[name]\n\u001b[1;32m-> 5902\u001b[0m \u001b[39mreturn\u001b[39;00m \u001b[39mobject\u001b[39;49m\u001b[39m.\u001b[39;49m\u001b[39m__getattribute__\u001b[39;49m(\u001b[39mself\u001b[39;49m, name)\n",
      "\u001b[1;31mAttributeError\u001b[0m: 'DataFrame' object has no attribute 'changes'"
     ]
    }
   ],
   "source": [
    "df = pd.DataFrame({\"java\": np.array(df_merged.changes.sort_values()), \"ast\": np.array(df_merged.changes_ast.sort_values())})\n",
    "(df.cumsum() / df.sum()).plot()\n",
    "df"
   ]
  },
  {
   "cell_type": "code",
   "execution_count": null,
   "id": "f8be931f",
   "metadata": {},
   "outputs": [
    {
     "ename": "AttributeError",
     "evalue": "'DataFrame' object has no attribute 'changes'",
     "output_type": "error",
     "traceback": [
      "\u001b[1;31m---------------------------------------------------------------------------\u001b[0m",
      "\u001b[1;31mAttributeError\u001b[0m                            Traceback (most recent call last)",
      "Cell \u001b[1;32mIn[14], line 1\u001b[0m\n\u001b[1;32m----> 1\u001b[0m df \u001b[39m=\u001b[39m pd\u001b[39m.\u001b[39mDataFrame({\u001b[39m\"\u001b[39m\u001b[39mjava\u001b[39m\u001b[39m\"\u001b[39m: np\u001b[39m.\u001b[39marray(df_merged\u001b[39m.\u001b[39;49mchanges\u001b[39m.\u001b[39msort_values()), \u001b[39m\"\u001b[39m\u001b[39mast\u001b[39m\u001b[39m\"\u001b[39m: np\u001b[39m.\u001b[39marray(df_merged\u001b[39m.\u001b[39mchanges_ast\u001b[39m.\u001b[39msort_values())})\n\u001b[0;32m      2\u001b[0m df\u001b[39m.\u001b[39mcumsum()\u001b[39m.\u001b[39mplot()\n",
      "File \u001b[1;32mc:\\Users\\boran\\OneDrive\\DTU\\BSc Thesis\\formastfolder\\formast\\.venv\\lib\\site-packages\\pandas\\core\\generic.py:5902\u001b[0m, in \u001b[0;36mNDFrame.__getattr__\u001b[1;34m(self, name)\u001b[0m\n\u001b[0;32m   5895\u001b[0m \u001b[39mif\u001b[39;00m (\n\u001b[0;32m   5896\u001b[0m     name \u001b[39mnot\u001b[39;00m \u001b[39min\u001b[39;00m \u001b[39mself\u001b[39m\u001b[39m.\u001b[39m_internal_names_set\n\u001b[0;32m   5897\u001b[0m     \u001b[39mand\u001b[39;00m name \u001b[39mnot\u001b[39;00m \u001b[39min\u001b[39;00m \u001b[39mself\u001b[39m\u001b[39m.\u001b[39m_metadata\n\u001b[0;32m   5898\u001b[0m     \u001b[39mand\u001b[39;00m name \u001b[39mnot\u001b[39;00m \u001b[39min\u001b[39;00m \u001b[39mself\u001b[39m\u001b[39m.\u001b[39m_accessors\n\u001b[0;32m   5899\u001b[0m     \u001b[39mand\u001b[39;00m \u001b[39mself\u001b[39m\u001b[39m.\u001b[39m_info_axis\u001b[39m.\u001b[39m_can_hold_identifiers_and_holds_name(name)\n\u001b[0;32m   5900\u001b[0m ):\n\u001b[0;32m   5901\u001b[0m     \u001b[39mreturn\u001b[39;00m \u001b[39mself\u001b[39m[name]\n\u001b[1;32m-> 5902\u001b[0m \u001b[39mreturn\u001b[39;00m \u001b[39mobject\u001b[39;49m\u001b[39m.\u001b[39;49m\u001b[39m__getattribute__\u001b[39;49m(\u001b[39mself\u001b[39;49m, name)\n",
      "\u001b[1;31mAttributeError\u001b[0m: 'DataFrame' object has no attribute 'changes'"
     ]
    }
   ],
   "source": [
    "df = pd.DataFrame({\"java\": np.array(df_merged.changes.sort_values()), \"ast\": np.array(df_merged.changes_ast.sort_values())})\n",
    "df.cumsum().plot()"
   ]
  },
  {
   "cell_type": "code",
   "execution_count": null,
   "id": "1855cd1d",
   "metadata": {},
   "outputs": [
    {
     "ename": "AttributeError",
     "evalue": "'DataFrame' object has no attribute 'changes'",
     "output_type": "error",
     "traceback": [
      "\u001b[1;31m---------------------------------------------------------------------------\u001b[0m",
      "\u001b[1;31mAttributeError\u001b[0m                            Traceback (most recent call last)",
      "Cell \u001b[1;32mIn[15], line 1\u001b[0m\n\u001b[1;32m----> 1\u001b[0m df \u001b[39m=\u001b[39m pd\u001b[39m.\u001b[39mDataFrame({\u001b[39m\"\u001b[39m\u001b[39mjava\u001b[39m\u001b[39m\"\u001b[39m: df_merged\u001b[39m.\u001b[39;49mchanges, \u001b[39m\"\u001b[39m\u001b[39mast\u001b[39m\u001b[39m\"\u001b[39m: df_merged\u001b[39m.\u001b[39mchanges_ast})\n\u001b[0;32m      2\u001b[0m (df\u001b[39m.\u001b[39mcumsum() \u001b[39m/\u001b[39m df\u001b[39m.\u001b[39msum())\u001b[39m.\u001b[39mplot()\n",
      "File \u001b[1;32mc:\\Users\\boran\\OneDrive\\DTU\\BSc Thesis\\formastfolder\\formast\\.venv\\lib\\site-packages\\pandas\\core\\generic.py:5902\u001b[0m, in \u001b[0;36mNDFrame.__getattr__\u001b[1;34m(self, name)\u001b[0m\n\u001b[0;32m   5895\u001b[0m \u001b[39mif\u001b[39;00m (\n\u001b[0;32m   5896\u001b[0m     name \u001b[39mnot\u001b[39;00m \u001b[39min\u001b[39;00m \u001b[39mself\u001b[39m\u001b[39m.\u001b[39m_internal_names_set\n\u001b[0;32m   5897\u001b[0m     \u001b[39mand\u001b[39;00m name \u001b[39mnot\u001b[39;00m \u001b[39min\u001b[39;00m \u001b[39mself\u001b[39m\u001b[39m.\u001b[39m_metadata\n\u001b[0;32m   5898\u001b[0m     \u001b[39mand\u001b[39;00m name \u001b[39mnot\u001b[39;00m \u001b[39min\u001b[39;00m \u001b[39mself\u001b[39m\u001b[39m.\u001b[39m_accessors\n\u001b[0;32m   5899\u001b[0m     \u001b[39mand\u001b[39;00m \u001b[39mself\u001b[39m\u001b[39m.\u001b[39m_info_axis\u001b[39m.\u001b[39m_can_hold_identifiers_and_holds_name(name)\n\u001b[0;32m   5900\u001b[0m ):\n\u001b[0;32m   5901\u001b[0m     \u001b[39mreturn\u001b[39;00m \u001b[39mself\u001b[39m[name]\n\u001b[1;32m-> 5902\u001b[0m \u001b[39mreturn\u001b[39;00m \u001b[39mobject\u001b[39;49m\u001b[39m.\u001b[39;49m\u001b[39m__getattribute__\u001b[39;49m(\u001b[39mself\u001b[39;49m, name)\n",
      "\u001b[1;31mAttributeError\u001b[0m: 'DataFrame' object has no attribute 'changes'"
     ]
    }
   ],
   "source": [
    "df = pd.DataFrame({\"java\": df_merged.changes, \"ast\": df_merged.changes_ast})\n",
    "(df.cumsum() / df.sum()).plot()"
   ]
  },
  {
   "cell_type": "code",
   "execution_count": null,
   "id": "daa1d55d",
   "metadata": {},
   "outputs": [
    {
     "name": "stderr",
     "output_type": "stream",
     "text": [
      "C:\\Users\\boran\\AppData\\Local\\Temp\\ipykernel_28460\\4186556791.py:2: UserWarning: Boolean Series key will be reindexed to match DataFrame index.\n",
      "  df_merged[df_merged.token == 0][df_merged.nws != 0]\n"
     ]
    },
    {
     "data": {
      "text/html": [
       "<div>\n",
       "<style scoped>\n",
       "    .dataframe tbody tr th:only-of-type {\n",
       "        vertical-align: middle;\n",
       "    }\n",
       "\n",
       "    .dataframe tbody tr th {\n",
       "        vertical-align: top;\n",
       "    }\n",
       "\n",
       "    .dataframe thead th {\n",
       "        text-align: right;\n",
       "    }\n",
       "</style>\n",
       "<table border=\"1\" class=\"dataframe\">\n",
       "  <thead>\n",
       "    <tr style=\"text-align: right;\">\n",
       "      <th></th>\n",
       "      <th></th>\n",
       "      <th>repo</th>\n",
       "      <th>token</th>\n",
       "      <th>nws</th>\n",
       "    </tr>\n",
       "    <tr>\n",
       "      <th>commit_hash</th>\n",
       "      <th>filename</th>\n",
       "      <th></th>\n",
       "      <th></th>\n",
       "      <th></th>\n",
       "    </tr>\n",
       "  </thead>\n",
       "  <tbody>\n",
       "    <tr>\n",
       "      <th rowspan=\"8\" valign=\"top\">1b4b4c68c4ede676834ce62eb2d1f014fe3489a7</th>\n",
       "      <th>OnlineBookStore/servlets/AddBookServlet.java</th>\n",
       "      <td>56</td>\n",
       "      <td>0</td>\n",
       "      <td>56</td>\n",
       "    </tr>\n",
       "    <tr>\n",
       "      <th>OnlineBookStore/servlets/ReceiptServlet.java</th>\n",
       "      <td>71</td>\n",
       "      <td>0</td>\n",
       "      <td>71</td>\n",
       "    </tr>\n",
       "    <tr>\n",
       "      <th>OnlineBookStore/servlets/UserLoginServlet.java</th>\n",
       "      <td>42</td>\n",
       "      <td>0</td>\n",
       "      <td>42</td>\n",
       "    </tr>\n",
       "    <tr>\n",
       "      <th>OnlineBookStore/servlets/UserRegisterServlet.java</th>\n",
       "      <td>49</td>\n",
       "      <td>0</td>\n",
       "      <td>49</td>\n",
       "    </tr>\n",
       "    <tr>\n",
       "      <th>OnlineBookStore/src/test/AddBookServlet.java</th>\n",
       "      <td>46</td>\n",
       "      <td>0</td>\n",
       "      <td>46</td>\n",
       "    </tr>\n",
       "    <tr>\n",
       "      <th>OnlineBookStore/src/test/ReceiptServlet.java</th>\n",
       "      <td>75</td>\n",
       "      <td>0</td>\n",
       "      <td>75</td>\n",
       "    </tr>\n",
       "    <tr>\n",
       "      <th>OnlineBookStore/src/test/UserLoginServlet.java</th>\n",
       "      <td>42</td>\n",
       "      <td>0</td>\n",
       "      <td>42</td>\n",
       "    </tr>\n",
       "    <tr>\n",
       "      <th>OnlineBookStore/src/test/UserRegisterServlet.java</th>\n",
       "      <td>47</td>\n",
       "      <td>0</td>\n",
       "      <td>47</td>\n",
       "    </tr>\n",
       "    <tr>\n",
       "      <th rowspan=\"2\" valign=\"top\">45edd52796dc2025b46c9592678dc9be5f2b4178</th>\n",
       "      <th>src/main/java/config/DBConnection.java</th>\n",
       "      <td>39</td>\n",
       "      <td>0</td>\n",
       "      <td>39</td>\n",
       "    </tr>\n",
       "    <tr>\n",
       "      <th>src/main/java/servlets/DBConnection.java</th>\n",
       "      <td>42</td>\n",
       "      <td>0</td>\n",
       "      <td>42</td>\n",
       "    </tr>\n",
       "    <tr>\n",
       "      <th>4a307fabea604be9cb5bf92a5c65c29e9f0028f4</th>\n",
       "      <th>src/main/java/servlets/ReceiptServlet.java</th>\n",
       "      <td>1</td>\n",
       "      <td>0</td>\n",
       "      <td>1</td>\n",
       "    </tr>\n",
       "    <tr>\n",
       "      <th>668f6fb87f546fdb6d61b19913868ae6cb37c588</th>\n",
       "      <th>src/main/java/com/bittercode/service/impl/UserServiceImpl.java</th>\n",
       "      <td>1</td>\n",
       "      <td>0</td>\n",
       "      <td>1</td>\n",
       "    </tr>\n",
       "    <tr>\n",
       "      <th rowspan=\"2\" valign=\"top\">ba5e7a6d5df4ca95e2306c062947e5df3b1026cd</th>\n",
       "      <th>src/main/java/com/bittercode/config/DBUtil.java</th>\n",
       "      <td>48</td>\n",
       "      <td>0</td>\n",
       "      <td>48</td>\n",
       "    </tr>\n",
       "    <tr>\n",
       "      <th>src/main/java/config/DBConnection.java</th>\n",
       "      <td>41</td>\n",
       "      <td>0</td>\n",
       "      <td>41</td>\n",
       "    </tr>\n",
       "  </tbody>\n",
       "</table>\n",
       "</div>"
      ],
      "text/plain": [
       "                                                                                             repo  \\\n",
       "commit_hash                              filename                                                   \n",
       "1b4b4c68c4ede676834ce62eb2d1f014fe3489a7 OnlineBookStore/servlets/AddBookServlet.java          56   \n",
       "                                         OnlineBookStore/servlets/ReceiptServlet.java          71   \n",
       "                                         OnlineBookStore/servlets/UserLoginServlet.java        42   \n",
       "                                         OnlineBookStore/servlets/UserRegisterServlet.java     49   \n",
       "                                         OnlineBookStore/src/test/AddBookServlet.java          46   \n",
       "                                         OnlineBookStore/src/test/ReceiptServlet.java          75   \n",
       "                                         OnlineBookStore/src/test/UserLoginServlet.java        42   \n",
       "                                         OnlineBookStore/src/test/UserRegisterServlet.java     47   \n",
       "45edd52796dc2025b46c9592678dc9be5f2b4178 src/main/java/config/DBConnection.java                39   \n",
       "                                         src/main/java/servlets/DBConnection.java              42   \n",
       "4a307fabea604be9cb5bf92a5c65c29e9f0028f4 src/main/java/servlets/ReceiptServlet.java             1   \n",
       "668f6fb87f546fdb6d61b19913868ae6cb37c588 src/main/java/com/bittercode/service/impl/UserS...     1   \n",
       "ba5e7a6d5df4ca95e2306c062947e5df3b1026cd src/main/java/com/bittercode/config/DBUtil.java       48   \n",
       "                                         src/main/java/config/DBConnection.java                41   \n",
       "\n",
       "                                                                                             token  \\\n",
       "commit_hash                              filename                                                    \n",
       "1b4b4c68c4ede676834ce62eb2d1f014fe3489a7 OnlineBookStore/servlets/AddBookServlet.java            0   \n",
       "                                         OnlineBookStore/servlets/ReceiptServlet.java            0   \n",
       "                                         OnlineBookStore/servlets/UserLoginServlet.java          0   \n",
       "                                         OnlineBookStore/servlets/UserRegisterServlet.java       0   \n",
       "                                         OnlineBookStore/src/test/AddBookServlet.java            0   \n",
       "                                         OnlineBookStore/src/test/ReceiptServlet.java            0   \n",
       "                                         OnlineBookStore/src/test/UserLoginServlet.java          0   \n",
       "                                         OnlineBookStore/src/test/UserRegisterServlet.java       0   \n",
       "45edd52796dc2025b46c9592678dc9be5f2b4178 src/main/java/config/DBConnection.java                  0   \n",
       "                                         src/main/java/servlets/DBConnection.java                0   \n",
       "4a307fabea604be9cb5bf92a5c65c29e9f0028f4 src/main/java/servlets/ReceiptServlet.java              0   \n",
       "668f6fb87f546fdb6d61b19913868ae6cb37c588 src/main/java/com/bittercode/service/impl/UserS...      0   \n",
       "ba5e7a6d5df4ca95e2306c062947e5df3b1026cd src/main/java/com/bittercode/config/DBUtil.java         0   \n",
       "                                         src/main/java/config/DBConnection.java                  0   \n",
       "\n",
       "                                                                                             nws  \n",
       "commit_hash                              filename                                                 \n",
       "1b4b4c68c4ede676834ce62eb2d1f014fe3489a7 OnlineBookStore/servlets/AddBookServlet.java         56  \n",
       "                                         OnlineBookStore/servlets/ReceiptServlet.java         71  \n",
       "                                         OnlineBookStore/servlets/UserLoginServlet.java       42  \n",
       "                                         OnlineBookStore/servlets/UserRegisterServlet.java    49  \n",
       "                                         OnlineBookStore/src/test/AddBookServlet.java         46  \n",
       "                                         OnlineBookStore/src/test/ReceiptServlet.java         75  \n",
       "                                         OnlineBookStore/src/test/UserLoginServlet.java       42  \n",
       "                                         OnlineBookStore/src/test/UserRegisterServlet.java    47  \n",
       "45edd52796dc2025b46c9592678dc9be5f2b4178 src/main/java/config/DBConnection.java               39  \n",
       "                                         src/main/java/servlets/DBConnection.java             42  \n",
       "4a307fabea604be9cb5bf92a5c65c29e9f0028f4 src/main/java/servlets/ReceiptServlet.java            1  \n",
       "668f6fb87f546fdb6d61b19913868ae6cb37c588 src/main/java/com/bittercode/service/impl/UserS...    1  \n",
       "ba5e7a6d5df4ca95e2306c062947e5df3b1026cd src/main/java/com/bittercode/config/DBUtil.java      48  \n",
       "                                         src/main/java/config/DBConnection.java               41  "
      ]
     },
     "execution_count": 16,
     "metadata": {},
     "output_type": "execute_result"
    }
   ],
   "source": [
    "#find størrelsen af filen for at finde en relativ ændring \n",
    "df_merged[df_merged.token == 0][df_merged.nws != 0]"
   ]
  },
  {
   "cell_type": "code",
   "execution_count": null,
   "id": "9129c52e",
   "metadata": {},
   "outputs": [
    {
     "data": {
      "text/plain": [
       "<Node type=program, start_point=(0, 0), end_point=(0, 17)>"
      ]
     },
     "execution_count": 35,
     "metadata": {},
     "output_type": "execute_result"
    }
   ],
   "source": [
    "from tree_sitter import Language, Parser\n",
    "import os\n",
    "from formast.__main__ import JAVA_LANGUAGE\n",
    "\n",
    "parser = Parser()\n",
    "parser.set_language(JAVA_LANGUAGE)\n",
    "\n",
    "\n",
    "\n",
    "with open(\"..\\java_files\\simple.java\", \"rb\") as f:\n",
    "    code = f.read()\n",
    "tree = parser.parse(code)\n",
    "\n",
    "tree.root_node.children[0].children"
   ]
  },
  {
   "cell_type": "code",
   "execution_count": null,
   "id": "d30ac1fc",
   "metadata": {},
   "outputs": [],
   "source": [
    "def traverse(tree, depth=1):\n",
    "    cursor = tree.walk()\n",
    "    descend = [True]\n",
    "\n",
    "    while True:\n",
    "        if descend[-1]:\n",
    "            yield cursor.node, depth\n",
    "        if descend[-1] and cursor.goto_first_child():\n",
    "            descend[-1] = False\n",
    "            descend.append(True)\n",
    "            if cursor.node.type == \"for_statement\":\n",
    "                yield None, depth+1\n",
    "        elif cursor.goto_next_sibling():\n",
    "            descend[-1] = True\n",
    "        elif cursor.goto_parent():\n",
    "            descend.pop()\n",
    "        else:\n",
    "            break\n",
    "\n",
    "def save_ast_file(file_path, tree):\n",
    "    with open(file_path+\".ast2\", 'w') as f:\n",
    "        for node in traverse(tree):\n",
    "            if node.child_count == 0:\n",
    "                f.write(node.text.decode(\"utf8\"))\n",
    "                f.write(\"\\n\")"
   ]
  },
  {
   "cell_type": "code",
   "execution_count": null,
   "id": "81e8ba81",
   "metadata": {},
   "outputs": [],
   "source": [
    "# result = traverse(tree, depth=1)\n",
    "# save_ast_file(\"trying\",result)"
   ]
  },
  {
   "cell_type": "code",
   "execution_count": 1,
   "id": "7e665576",
   "metadata": {},
   "outputs": [
    {
     "data": {
      "text/plain": [
       "<tree_sitter.Tree at 0x174e94edf70>"
      ]
     },
     "execution_count": 1,
     "metadata": {},
     "output_type": "execute_result"
    }
   ],
   "source": [
    "from collections import deque\n",
    "from tree_sitter import Language, Parser\n",
    "import os\n",
    "from formast.__main__ import JAVA_LANGUAGE\n",
    "\n",
    "parser = Parser()\n",
    "parser.set_language(JAVA_LANGUAGE)\n",
    "\n",
    "with open(\"..\\java_files\\simple.java\", \"rb\") as f:\n",
    "    code = f.read()\n",
    "tree = parser.parse(code)\n",
    "\n",
    "tree"
   ]
  },
  {
   "cell_type": "code",
   "execution_count": 14,
   "id": "08ed0a40",
   "metadata": {},
   "outputs": [
    {
     "name": "stdout",
     "output_type": "stream",
     "text": [
      "program [0, 0] - [0, 17]\n",
      "  class_declaration [0, 0] - [0, 17]\n",
      "    modifiers [0, 0] - [0, 6]\n",
      "      public [0, 0] - [0, 6]\n",
      "    class [0, 7] - [0, 12]\n",
      "    identifier [0, 13] - [0, 14]\n",
      "    class_body [0, 15] - [0, 17]\n",
      "      { [0, 15] - [0, 16]\n",
      "      } [0, 16] - [0, 17]\n"
     ]
    }
   ],
   "source": [
    "from tree_sitter import Node\n",
    "\n",
    "def print_node(node: Node, indent: str = \"\"):\n",
    "    print(f\"{indent}{node.type} [{node.start_point[0]}, {node.start_point[1]}] - [{node.end_point[0]}, {node.end_point[1]}]\")\n",
    "    for child in node.children:\n",
    "        print_node(child, indent + \"  \")\n",
    "\n",
    "print_node(tree.root_node)"
   ]
  },
  {
   "cell_type": "code",
   "execution_count": 16,
   "id": "52daa1c5",
   "metadata": {},
   "outputs": [
    {
     "name": "stdout",
     "output_type": "stream",
     "text": [
      "B public \n",
      "B modifiers 0\n",
      "B class \n",
      "N A\n",
      "B identifier 3\n",
      "B class_body \n",
      "B class_declaration 1 2 4 5\n",
      "B program 6\n"
     ]
    }
   ],
   "source": [
    "# Works quite well but has B class\n",
    "def process_tree(tree, code):\n",
    "    lines = []\n",
    "    def process_node(node):\n",
    "        if node.type == 'identifier':\n",
    "            lines.append(f'N {code[node.start_byte:node.end_byte].decode(\"utf-8\")}')\n",
    "            lines.append(f'B identifier {len(lines) - 1}')\n",
    "            return len(lines) - 1\n",
    "        elif node.type == 'class_body':\n",
    "            children = []\n",
    "            for child in node.children:\n",
    "                if child.type not in ['{', '}']:\n",
    "                    child_index = process_node(child)\n",
    "                    if child_index is not None:\n",
    "                        children.append(child_index)\n",
    "            lines.append(f'B {node.type} {\" \".join(map(str, children))}')\n",
    "            return len(lines) - 1\n",
    "        else:\n",
    "            children = []\n",
    "            for child in node.children:\n",
    "                child_index = process_node(child)\n",
    "                if child_index is not None:\n",
    "                    children.append(child_index)\n",
    "            lines.append(f'B {node.type} {\" \".join(map(str, children))}')\n",
    "            return len(lines) - 1\n",
    "    process_node(tree.root_node)\n",
    "    return '\\n'.join(lines)\n",
    "\n",
    "print(process_tree(tree, code))"
   ]
  },
  {
   "cell_type": "code",
   "execution_count": 17,
   "id": "4e4e09a3",
   "metadata": {},
   "outputs": [
    {
     "name": "stdout",
     "output_type": "stream",
     "text": [
      "B public \n",
      "B modifiers 0\n",
      "N A\n",
      "B identifier 2\n",
      "B class_body \n",
      "B class_declaration 1 3 4\n",
      "B program 5\n"
     ]
    }
   ],
   "source": [
    "# Same as before, but skips B class\n",
    "def process_tree(tree, code):\n",
    "    lines = []\n",
    "    def process_node(node):\n",
    "        if node.type == 'identifier':\n",
    "            lines.append(f'N {code[node.start_byte:node.end_byte].decode(\"utf-8\")}')\n",
    "            lines.append(f'B identifier {len(lines) - 1}')\n",
    "            return len(lines) - 1\n",
    "        elif node.type == 'class':\n",
    "            return None\n",
    "        elif node.type == 'class_body':\n",
    "            children = []\n",
    "            for child in node.children:\n",
    "                if child.type not in ['{', '}']:\n",
    "                    child_index = process_node(child)\n",
    "                    if child_index is not None:\n",
    "                        children.append(child_index)\n",
    "            lines.append(f'B {node.type} {\" \".join(map(str, children))}')\n",
    "            return len(lines) - 1\n",
    "        else:\n",
    "            children = []\n",
    "            for child in node.children:\n",
    "                child_index = process_node(child)\n",
    "                if child_index is not None:\n",
    "                    children.append(child_index)\n",
    "            lines.append(f'B {node.type} {\" \".join(map(str, children))}')\n",
    "            return len(lines) - 1\n",
    "    process_node(tree.root_node)\n",
    "    return '\\n'.join(lines)\n",
    "\n",
    "print(process_tree(tree, code))"
   ]
  },
  {
   "cell_type": "code",
   "execution_count": 204,
   "id": "5af21e79",
   "metadata": {},
   "outputs": [
    {
     "name": "stdout",
     "output_type": "stream",
     "text": [
      "N public\n",
      "B modifiers 0\n",
      "B class \n",
      "N A\n",
      "B class_body \n",
      "B identifier 2\n",
      "B class_declaration 1 5 3 4\n",
      "B program 6\n"
     ]
    }
   ],
   "source": [
    "def process_tree(tree, code):\n",
    "    lines = []\n",
    "    def process_node(node):\n",
    "        if node.type == 'identifier' or (node.type == 'public' and node.parent.type == 'modifiers'):\n",
    "            lines.append(f'N {code[node.start_byte:node.end_byte].decode(\"utf-8\")}')\n",
    "            return len(lines) - 1\n",
    "        elif node.type == '{' or node.type == '}':\n",
    "            return None\n",
    "        else:\n",
    "            children = []\n",
    "            for child in node.children:\n",
    "                child_index = process_node(child)\n",
    "                if child_index is not None:\n",
    "                    children.append(child_index)\n",
    "            if node.type == 'class_declaration':\n",
    "                lines.append(f'B identifier {children[1]}')\n",
    "                children[1] = len(lines) - 1\n",
    "            lines.append(f'B {node.type} {\" \".join(map(str, children))}')\n",
    "            return len(lines) - 1\n",
    "    process_node(tree.root_node)\n",
    "    return '\\n'.join(lines)\n",
    "\n",
    "print(process_tree(tree, code))"
   ]
  },
  {
   "cell_type": "code",
   "execution_count": 205,
   "id": "8f91d429",
   "metadata": {},
   "outputs": [
    {
     "name": "stdout",
     "output_type": "stream",
     "text": [
      "B public \n",
      "B modifiers 0\n",
      "B class \n",
      "N A\n",
      "B { \n",
      "B } \n",
      "B class_body 4 5\n",
      "B class_declaration 1 2 3 6\n",
      "B program 7\n"
     ]
    }
   ],
   "source": [
    "def process_tree(tree, code):\n",
    "    lines = []\n",
    "    def process_node(node):\n",
    "        if node.type == 'identifier':\n",
    "            lines.append(f'N {code[node.start_byte:node.end_byte].decode(\"utf-8\")}')\n",
    "            return len(lines) - 1\n",
    "        else:\n",
    "            children = []\n",
    "            for child in node.children:\n",
    "                child_index = process_node(child)\n",
    "                if child_index is not None:\n",
    "                    children.append(child_index)\n",
    "            lines.append(f'B {node.type} {\" \".join(map(str, children))}')\n",
    "            return len(lines) - 1\n",
    "    process_node(tree.root_node)\n",
    "    return '\\n'.join(lines)\n",
    "\n",
    "\n",
    "print(process_tree(tree, code))\n"
   ]
  },
  {
   "cell_type": "code",
   "execution_count": 198,
   "id": "4437cf82",
   "metadata": {},
   "outputs": [
    {
     "name": "stdout",
     "output_type": "stream",
     "text": [
      "N public\n",
      "B modifiers 0\n",
      "B class \n",
      "N A\n",
      "B { \n",
      "B } \n",
      "B class_body 4 5\n",
      "B class_declaration 1 2 3 6\n",
      "B program 7\n"
     ]
    }
   ],
   "source": [
    "def process_tree(tree, code):\n",
    "    lines = []\n",
    "    def process_node(node):\n",
    "        if node.type == 'identifier' or (node.type == 'public' and node.parent.type == 'modifiers'):\n",
    "            lines.append(f'N {code[node.start_byte:node.end_byte].decode(\"utf-8\")}')\n",
    "            return len(lines) - 1\n",
    "        else:\n",
    "            children = []\n",
    "            for child in node.children:\n",
    "                child_index = process_node(child)\n",
    "                if child_index is not None:\n",
    "                    children.append(child_index)\n",
    "            if node.type == 'identifier':\n",
    "                lines.append(f'B {node.parent.type} {\" \".join(map(str, children))}')\n",
    "            else:\n",
    "                lines.append(f'B {node.type} {\" \".join(map(str, children))}')\n",
    "            return len(lines) - 1\n",
    "    process_node(tree.root_node)\n",
    "    return '\\n'.join(lines)\n",
    "\n",
    "print(process_tree(tree, code))\n"
   ]
  },
  {
   "cell_type": "code",
   "execution_count": 196,
   "id": "9b744f81",
   "metadata": {},
   "outputs": [
    {
     "name": "stdout",
     "output_type": "stream",
     "text": [
      "N public\n",
      "B modifiers 0\n",
      "B class \n",
      "N A\n",
      "B { \n",
      "B } \n",
      "B class_body 4 5\n",
      "B class_declaration 1 2 3 6\n",
      "B program 7\n"
     ]
    }
   ],
   "source": [
    "def process_tree(tree, code):\n",
    "    lines = []\n",
    "    \n",
    "    def process_node(node):\n",
    "        nonlocal lines\n",
    "        \n",
    "        if node.type == 'identifier' or (node.type == 'public' and node.parent.type == 'modifiers'):\n",
    "            lines.append(f'N {code[node.start_byte:node.end_byte].decode(\"utf-8\")}')\n",
    "            return len(lines) - 1\n",
    "        \n",
    "        children = []\n",
    "        for child in node.children:\n",
    "            child_index = process_node(child)\n",
    "            if child_index is not None:\n",
    "                children.append(child_index)\n",
    "        \n",
    "        node_type = node.type if node.type != 'identifier' else node.parent.type\n",
    "        lines.append(f'B {node_type} {\" \".join(map(str, children))}')\n",
    "        return len(lines) - 1\n",
    "    \n",
    "    process_node(tree.root_node)\n",
    "    return '\\n'.join(lines)\n",
    "\n",
    "print(process_tree(tree,code))"
   ]
  },
  {
   "cell_type": "code",
   "execution_count": 179,
   "id": "53b32f79",
   "metadata": {},
   "outputs": [
    {
     "name": "stdout",
     "output_type": "stream",
     "text": [
      "N public\n",
      "B public \n",
      "N A\n",
      "B class_declaration \n"
     ]
    }
   ],
   "source": [
    "def process_tree(tree, code):\n",
    "    lines = []\n",
    "    stack = [(tree.root_node, None)]\n",
    "    while stack:\n",
    "        node, parent_index = stack.pop()\n",
    "        if node.type == 'identifier' or (node.type == 'public' and node.parent.type == 'modifiers'):\n",
    "            lines.append(f'N {code[node.start_byte:node.end_byte].decode(\"utf-8\")}')\n",
    "            parent_index = len(lines) - 1\n",
    "        children = []\n",
    "        for child in reversed(node.children):\n",
    "            child_index = stack[-1][1] if stack else None\n",
    "            if child.type != 'ERROR':\n",
    "                stack.append((child, child_index))\n",
    "                children.append(len(lines))\n",
    "        if parent_index is not None:\n",
    "            node_type = node.parent.type if node.type == 'identifier' else node.type\n",
    "            lines.append(f'B {node_type} {\" \".join(map(str, reversed(children)))}')\n",
    "    return '\\n'.join(lines)\n",
    "\n",
    "print(process_tree(tree,code))"
   ]
  },
  {
   "cell_type": "code",
   "execution_count": 159,
   "id": "86ad8481",
   "metadata": {},
   "outputs": [
    {
     "name": "stdout",
     "output_type": "stream",
     "text": [
      "N class_declaration 0\n",
      "N class_declaration 0\n",
      "N modifiers 1\n",
      "N class 1\n",
      "N identifier 1\n",
      "N class_body 1\n",
      "N class_body 1\n",
      "N public 1\n",
      "N public 1\n",
      "N public 1\n",
      "N public 1\n",
      "N public 1\n",
      "N { 1\n",
      "N } 1\n",
      "N } 1\n",
      "N } 1\n",
      "N } 1\n"
     ]
    }
   ],
   "source": [
    "def traverse(node):\n",
    "    yield node\n",
    "    if node.children:\n",
    "        for child in node.children:\n",
    "            yield from traverse(child)\n",
    "\n",
    "oi = traverse(tree.root_node)\n",
    "#for i in oi:\n",
    "#    print(i)\n",
    "\n",
    "def generate_ast_tree(node):\n",
    "    Node = \"N\"\n",
    "    Branch = \"B\"\n",
    "    Leaf = \"L\"\n",
    "    line = 0\n",
    "    for node in traverse(node):\n",
    "        if node.children:\n",
    "            for child in node.children:\n",
    "                yield f\"{Node} {child.type} {line}\"\n",
    "        yield f\"{Node} {child.type} {line}\"\n",
    "        line=+1\n",
    "        \n",
    "\n",
    "oi=generate_ast_tree(tree.root_node)\n",
    "for i in oi:\n",
    "    print(i)\n",
    "            "
   ]
  },
  {
   "cell_type": "code",
   "execution_count": 95,
   "id": "3aba90ed",
   "metadata": {},
   "outputs": [],
   "source": [
    "def traverse(node):\n",
    "    yield node\n",
    "    if node.children:\n",
    "        for child in node.children:\n",
    "            yield from traverse(child)\n",
    "\n",
    "def generate_ast(tree):\n",
    "    root_node = tree.root_node\n",
    "    output = []\n",
    "    indent = ''\n",
    "    line_no = 0\n",
    "\n",
    "    for node in traverse(root_node):\n",
    "        if node.is_named:\n",
    "            type = node.type\n",
    "            start_row, start_col = node.start_point\n",
    "            end_row, end_col = node.end_point\n",
    "            if node.child_count > 0:\n",
    "                output.append(f\"{line_no:02d} | N {type}\")\n",
    "                output.append(f\"{line_no:02d} | B {type} {start_row}:{start_col}-{end_row}:{end_col}\")\n",
    "                indent += '  '\n",
    "            else:\n",
    "                output.append(f\"{line_no:02d} | N {type} {node.text}\")\n",
    "                indent = '  '\n",
    "        else:\n",
    "            indent = indent[:-2]\n",
    "\n",
    "        line_no += 1\n",
    "        output.append(f\"{line_no:02d} | {indent}B {node.type} {node.start_point[0]}:{node.start_point[1]}-{node.end_point[0]}:{node.end_point[1]}\")\n",
    "\n",
    "    return '\\n'.join(output)\n",
    "\n"
   ]
  },
  {
   "cell_type": "code",
   "execution_count": 120,
   "id": "f1004fb8",
   "metadata": {},
   "outputs": [
    {
     "name": "stdout",
     "output_type": "stream",
     "text": [
      "<Node type=program, start_point=(0, 0), end_point=(0, 17)>\n",
      "<Node type=class_declaration, start_point=(0, 0), end_point=(0, 17)>\n",
      "<Node type=modifiers, start_point=(0, 0), end_point=(0, 6)>\n",
      "<Node type=\"public\", start_point=(0, 0), end_point=(0, 6)>\n",
      "<Node type=\"class\", start_point=(0, 7), end_point=(0, 12)>\n",
      "<Node type=identifier, start_point=(0, 13), end_point=(0, 14)>\n",
      "<Node type=class_body, start_point=(0, 15), end_point=(0, 17)>\n",
      "<Node type=\"{\", start_point=(0, 15), end_point=(0, 16)>\n",
      "<Node type=\"}\", start_point=(0, 16), end_point=(0, 17)>\n",
      "N program\n",
      "B class_declaration 0\n",
      "N class_declaration\n",
      "B modifiers 0\n",
      "B class 0\n",
      "N modifiers\n",
      "B public 0\n",
      "N identifier b'A'\n",
      "N class_body\n",
      "B { 0\n",
      "B } 0\n"
     ]
    }
   ],
   "source": [
    "oi=traverse(tree.root_node)\n",
    "for i in oi:\n",
    "    print(i)\n",
    "\n",
    "def generate_ast(root_node):\n",
    "    Node = \"N\"\n",
    "    Branch = \"B\" \n",
    "    line = 0   \n",
    "    for node in traverse(root_node):\n",
    "        if node.is_named:\n",
    "            if node.child_count > 0:\n",
    "                # yield f\"{line:02d} | N {type}\"\n",
    "                yield f\"{Node} {node.type}\"\n",
    "                # go to child node\n",
    "                node = node.children[0]\n",
    "                yield f\"{Branch} {node.type} {line}\"\n",
    "                # check if there is a sibling other than the current node\n",
    "                if node.next_sibling:\n",
    "                    node = node.next_sibling\n",
    "                    yield f\"{Branch} {node.type} {line}\"\n",
    "            else:\n",
    "                yield f\"{Node} {node.type} {node.text}\"\n",
    "    return\n",
    "\n",
    "oi = generate_ast(tree.root_node)\n",
    "for i in oi:\n",
    "    print(i)\n"
   ]
  }
 ],
 "metadata": {
  "kernelspec": {
   "display_name": ".venv",
   "language": "python",
   "name": "python3"
  },
  "language_info": {
   "codemirror_mode": {
    "name": "ipython",
    "version": 3
   },
   "file_extension": ".py",
   "mimetype": "text/x-python",
   "name": "python",
   "nbconvert_exporter": "python",
   "pygments_lexer": "ipython3",
   "version": "3.10.7"
  },
  "vscode": {
   "interpreter": {
    "hash": "b75cf29ff0bcd83bb514ef2389d59cf9864333948b9c7b39dceb66c92e4221eb"
   }
  }
 },
 "nbformat": 4,
 "nbformat_minor": 5
}
