{
 "cells": [
  {
   "cell_type": "code",
   "execution_count": 1,
   "metadata": {},
   "outputs": [],
   "source": [
    "import pandas as pd\n",
    "import numpy as np"
   ]
  },
  {
   "cell_type": "code",
   "execution_count": 3,
   "metadata": {},
   "outputs": [],
   "source": [
    "# Loading mapping files\n",
    "mapping_to_token = pd.read_csv(\"../csv_files/bookstore_csv/mapping_token.csv\")\n",
    "mapping_to_ast = pd.read_csv(\"../csv_files/bookstore_csv/mapping_ast.csv\")\n",
    "mapping_to_comp_ast = pd.read_csv(\"../csv_files/bookstore_csv/mapping_comp_ast.csv\")\n",
    "mapping_to_rel_ast = pd.read_csv(\"../csv_files/bookstore_csv/mapping_relative_ast.csv\")\n",
    "\n",
    "mapping = {\"token\" : mapping_to_token, \"ast\" : mapping_to_ast, \"comp_ast\" : mapping_to_comp_ast, \"relative_ast\" : mapping_to_rel_ast}\n",
    "\n",
    "d_type = {\"commit_hash\" : \"str\", \t\"num_additions\" : int,\t\"num_deletions\": int, \"filename\" : \"str\"}\n",
    "\n",
    "# Function for loading data\n",
    "def load_data(file):\n",
    "    df = pd.read_csv(file)\n",
    "    df = df[df.filename.str.endswith(\".java\")]\n",
    "    return pd.DataFrame({\"commit_hash\": df.commit_hash, \"changes\": pd.to_numeric(df.num_additions) + pd.to_numeric(df.num_deletions)})\n",
    "\n",
    "# Loading data\n",
    "data_java = load_data(\"../csv_files/bookstore_csv/output_java.csv\")\n",
    "data_java_nws = load_data(\"../csv_files/bookstore_csv/output_nws.csv\") \n",
    "data_token = load_data(\"../csv_files/bookstore_csv/output_token.csv\")\n",
    "data_ast = load_data(\"../csv_files/bookstore_csv/output_ast.csv\")\n",
    "data_comp_ast = load_data(\"../csv_files/bookstore_csv/output_comp_ast.csv\")\n",
    "data_rel_ast = load_data(\"../csv_files/bookstore_csv/output_relative_ast.csv\")\n",
    "\n",
    "data = {\"java\" : data_java, \"java_nws\" : data_java_nws, \"token\" : data_token, \"ast\" : data_ast, \"comp_ast\" : data_comp_ast, \"relative_ast\" : data_rel_ast}"
   ]
  }
 ],
 "metadata": {
  "kernelspec": {
   "display_name": "Python 3 (ipykernel)",
   "language": "python",
   "name": "python3"
  },
  "language_info": {
   "codemirror_mode": {
    "name": "ipython",
    "version": 3
   },
   "file_extension": ".py",
   "mimetype": "text/x-python",
   "name": "python",
   "nbconvert_exporter": "python",
   "pygments_lexer": "ipython3",
   "version": "3.10.7"
  }
 },
 "nbformat": 4,
 "nbformat_minor": 2
}
